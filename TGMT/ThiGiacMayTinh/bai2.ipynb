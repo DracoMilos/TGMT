{
 "cells": [
  {
   "cell_type": "code",
   "execution_count": 1,
   "metadata": {},
   "outputs": [
    {
     "name": "stdout",
     "output_type": "stream",
     "text": [
      "Requirement already satisfied: pillow in c:\\users\\admin\\onedrive - dong nai technology university (dntu)\\tgmt\\.venv\\lib\\site-packages (10.4.0)\n",
      "Note: you may need to restart the kernel to use updated packages.\n",
      "Collecting imgtools\n",
      "  Using cached imgtools-0.2.0.tar.gz (4.5 kB)\n",
      "  Installing build dependencies: started\n",
      "  Installing build dependencies: finished with status 'done'\n",
      "  Getting requirements to build wheel: started\n",
      "  Getting requirements to build wheel: finished with status 'done'\n",
      "  Preparing metadata (pyproject.toml): started\n",
      "  Preparing metadata (pyproject.toml): finished with status 'done'\n",
      "Collecting svgutils (from imgtools)\n",
      "  Using cached svgutils-0.3.4-py3-none-any.whl.metadata (1.1 kB)\n",
      "Collecting lxml (from svgutils->imgtools)\n",
      "  Downloading lxml-5.3.0-cp39-cp39-win_amd64.whl.metadata (3.9 kB)\n",
      "Using cached svgutils-0.3.4-py3-none-any.whl (10 kB)\n",
      "Downloading lxml-5.3.0-cp39-cp39-win_amd64.whl (3.8 MB)\n",
      "   ---------------------------------------- 0.0/3.8 MB ? eta -:--:--\n",
      "   -- ------------------------------------- 0.3/3.8 MB ? eta -:--:--\n",
      "   ----------- ---------------------------- 1.0/3.8 MB 3.1 MB/s eta 0:00:01\n",
      "   ---------------- ----------------------- 1.6/3.8 MB 3.0 MB/s eta 0:00:01\n",
      "   --------------------------- ------------ 2.6/3.8 MB 3.4 MB/s eta 0:00:01\n",
      "   ----------------------------------- ---- 3.4/3.8 MB 3.7 MB/s eta 0:00:01\n",
      "   ---------------------------------------- 3.8/3.8 MB 3.7 MB/s eta 0:00:00\n",
      "Building wheels for collected packages: imgtools\n",
      "  Building wheel for imgtools (pyproject.toml): started\n",
      "  Building wheel for imgtools (pyproject.toml): finished with status 'done'\n",
      "  Created wheel for imgtools: filename=imgtools-0.2.0-py3-none-any.whl size=5830 sha256=487b9ba8af88255a9b64e8bbd2a30635acbd9f8510ebbc39fc3b8c8eec7c3d7e\n",
      "  Stored in directory: c:\\users\\admin\\appdata\\local\\pip\\cache\\wheels\\25\\da\\de\\d3945c754b389be58ea8bdd4030114ea01d85a6f325b12b28d\n",
      "Successfully built imgtools\n",
      "Installing collected packages: lxml, svgutils, imgtools\n",
      "Successfully installed imgtools-0.2.0 lxml-5.3.0 svgutils-0.3.4\n",
      "Note: you may need to restart the kernel to use updated packages.\n",
      "Collecting numpy\n",
      "  Downloading numpy-2.0.2-cp39-cp39-win_amd64.whl.metadata (59 kB)\n",
      "Downloading numpy-2.0.2-cp39-cp39-win_amd64.whl (15.9 MB)\n",
      "   ---------------------------------------- 0.0/15.9 MB ? eta -:--:--\n",
      "   - -------------------------------------- 0.8/15.9 MB 5.6 MB/s eta 0:00:03\n",
      "   ---- ----------------------------------- 1.8/15.9 MB 5.0 MB/s eta 0:00:03\n",
      "   ------- -------------------------------- 2.9/15.9 MB 4.9 MB/s eta 0:00:03\n",
      "   --------- ------------------------------ 3.9/15.9 MB 5.1 MB/s eta 0:00:03\n",
      "   ------------- -------------------------- 5.2/15.9 MB 5.1 MB/s eta 0:00:03\n",
      "   --------------- ------------------------ 6.3/15.9 MB 5.1 MB/s eta 0:00:02\n",
      "   ------------------- -------------------- 7.6/15.9 MB 5.2 MB/s eta 0:00:02\n",
      "   --------------------- ------------------ 8.7/15.9 MB 5.2 MB/s eta 0:00:02\n",
      "   ----------------------- ---------------- 9.2/15.9 MB 5.1 MB/s eta 0:00:02\n",
      "   ------------------------ --------------- 9.7/15.9 MB 4.7 MB/s eta 0:00:02\n",
      "   --------------------------- ------------ 10.7/15.9 MB 4.7 MB/s eta 0:00:02\n",
      "   ------------------------------ --------- 12.1/15.9 MB 4.8 MB/s eta 0:00:01\n",
      "   -------------------------------- ------- 13.1/15.9 MB 4.8 MB/s eta 0:00:01\n",
      "   ----------------------------------- ---- 14.2/15.9 MB 4.8 MB/s eta 0:00:01\n",
      "   -------------------------------------- - 15.2/15.9 MB 4.9 MB/s eta 0:00:01\n",
      "   ---------------------------------------- 15.9/15.9 MB 4.8 MB/s eta 0:00:00\n",
      "Installing collected packages: numpy\n",
      "Successfully installed numpy-2.0.2\n",
      "Note: you may need to restart the kernel to use updated packages.\n"
     ]
    }
   ],
   "source": [
    "#Cài đặt thư viện \n",
    "%pip install pillow\n",
    "%pip install imgtools\n",
    "%pip install numpy"
   ]
  },
  {
   "cell_type": "code",
   "execution_count": 2,
   "metadata": {},
   "outputs": [],
   "source": [
    "#Thêm thư viện \n",
    "from PIL import Image\n",
    "from imgtools import * "
   ]
  },
  {
   "cell_type": "code",
   "execution_count": 3,
   "metadata": {},
   "outputs": [],
   "source": [
    "dir = 'C:/Users/admin/OneDrive - Dong Nai Technology University (DNTU)/TGMT/ThuVien'"
   ]
  },
  {
   "cell_type": "code",
   "execution_count": 4,
   "metadata": {},
   "outputs": [],
   "source": [
    "imgs = get_image_list(dir)"
   ]
  },
  {
   "cell_type": "code",
   "execution_count": null,
   "metadata": {},
   "outputs": [],
   "source": []
  }
 ],
 "metadata": {
  "kernelspec": {
   "display_name": "Python 3",
   "language": "python",
   "name": "python3"
  },
  "language_info": {
   "codemirror_mode": {
    "name": "ipython",
    "version": 3
   },
   "file_extension": ".py",
   "mimetype": "text/x-python",
   "name": "python",
   "nbconvert_exporter": "python",
   "pygments_lexer": "ipython3",
   "version": "3.9.13"
  }
 },
 "nbformat": 4,
 "nbformat_minor": 2
}
